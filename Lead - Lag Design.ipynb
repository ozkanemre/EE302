{
 "cells": [
  {
   "cell_type": "markdown",
   "metadata": {},
   "source": [
    "#  FREQUENCY DOMAIN COMPENSATOR DESIGN GUIDELINES\n",
    "\n"
   ]
  },
  {
   "cell_type": "markdown",
   "metadata": {},
   "source": [
    "__Phase Lead Compensator Design__: $\\quad  G_c(s)=\\frac{1+Ts}{1+\\alpha Ts}, \\quad T>0, \\quad 0< \\alpha < 1$."
   ]
  },
  {
   "cell_type": "markdown",
   "metadata": {},
   "source": [
    "* Step - 0: Obtain Bode Plot for  $G(s)$.\n",
    "* Step - 1: Find $K$ to satisfy $e_{ss}$ requirement. \n",
    "* Step - 2: Combine $K$ and $G(s)$. We call the combined system *uncompansated* system\n",
    "    * $G_{uncomp}(s)\\triangleq K G(s)$.\n",
    "* Step - 3: Obtain the Bode plot for $G_{uncomp}(s)$ by shifting the magnitude plot of $G(s)$ up by $20\\log(K) \\text{dB}$. Phase plot remains the same.\n",
    "\n",
    "* Step - 4: Find $\\omega_{g}$ and phase margin of the uncompansated system\n",
    "    * $|G_{uncomp}(j\\omega_g)|$=1,   $p.m.$ = $\\angle G_{uncomp}(j\\omega_g) + 180^{\\circ}$.\n",
    "* Step - 5: Find the phase increment $\\phi_{max}$ to be added by the compensator and find $\\alpha$\n",
    "    * $\\phi_{max} +$ Uncompansated $p.m.  \\,=\\,  $Required$\\, p.m. + \\underbrace{5^{\\circ}\\sim12^{\\circ}}_{\\text{error margin}}$, \n",
    "    * $\\alpha=\\frac{1-\\sin(\\phi_{max})}{1+\\sin(\\phi_{max})}$.\n",
    "* Step - 6: Place the peak phase $\\phi_{max}$ at the new gain cross-over frequency $\\omega_{gnew}$ and find $T$\n",
    "    * $|G_{uncomp}(j~\\omega_{gnew}|=\\sqrt{\\alpha}, \\quad  \\omega_m = \\omega_{gnew} = \\frac{1}{\\sqrt{\\alpha} T}$. "
   ]
  },
  {
   "cell_type": "markdown",
   "metadata": {},
   "source": [
    "\\***Remark:** If $\\phi_{max} \\geq 60^{\\circ}, $ phase-lead compensator cannot be used due to physical circuit parameter restrictions."
   ]
  },
  {
   "cell_type": "markdown",
   "metadata": {},
   "source": [
    "__Phase Lag Compensator Design__:  $\\quad G_c(s)=\\frac{1+Ts}{1+\\alpha Ts}, \\quad T>0, \\quad \\alpha > 1$.\n",
    "\n",
    "\\*(Steps 0$\\sim$3 are same as the phase lead compensator design.)"
   ]
  },
  {
   "cell_type": "markdown",
   "metadata": {},
   "source": [
    "* Step - 0: Obtain Bode Plot for  $G(s)$.\n",
    "* Step - 1: Find $K$ to satisfy $e_{ss}$ requirement. \n",
    "* Step - 2: Combine $K$ and $G(s)$. We call the combined system *uncompansated* system.\n",
    "    * $G_{uncomp}(s)\\triangleq K G(s)$.\n",
    "* Step - 3: Obtain the Bode plot for $G_{uncomp}(s)$ by shifting the magnitude plot of $G(s)$ up by $20\\log(K) \\text{dB}$. Phase plot remains the same.\n",
    "\n",
    "* Step - 4: Find the new gain cross-over frequency $\\omega_{gnew}$ \n",
    "    * $\\angle G_{uncomp}(j\\omega_{gnew})= -180^{\\circ} + $Required $\\, p.m. + \\underbrace{5^{\\circ}\\sim12^{\\circ}}_{\\text{error margin}}$.\n",
    "    \n",
    "* Step - 5: Find $\\alpha$ such that $|G_{uncomp}(j\\omega_{gnew})|=\\alpha$.\n",
    "    \n",
    "* Step - 6: Find T such that the larger corner frequency $\\frac{1}{T}$ is one decade below $\\omega_{gnew}$\n",
    "    * $\\frac{10}{T}= \\omega_{gnew} $."
   ]
  },
  {
   "cell_type": "markdown",
   "metadata": {},
   "source": [
    "\\***Remark:** If the phase response of the original system $G(s)$ does not exibit the required phase margin, one cannot use the phase -lag compensator for obvious reasons."
   ]
  }
 ],
 "metadata": {
  "kernelspec": {
   "display_name": "Python 3",
   "language": "python",
   "name": "python3"
  },
  "language_info": {
   "codemirror_mode": {
    "name": "ipython",
    "version": 3
   },
   "file_extension": ".py",
   "mimetype": "text/x-python",
   "name": "python",
   "nbconvert_exporter": "python",
   "pygments_lexer": "ipython3",
   "version": "3.7.3"
  }
 },
 "nbformat": 4,
 "nbformat_minor": 2
}
